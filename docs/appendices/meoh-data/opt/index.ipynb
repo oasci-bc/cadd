{
 "cells": [
  {
   "cell_type": "markdown",
   "metadata": {},
   "source": [
    "# Geometry optimization\n",
    "\n"
   ]
  },
  {
   "cell_type": "code",
   "execution_count": 8,
   "metadata": {},
   "outputs": [],
   "source": [
    "from pyscf import gto, scf, mp\n",
    "from pyscf.geomopt.geometric_solver import optimize\n",
    "import py3Dmol"
   ]
  },
  {
   "cell_type": "code",
   "execution_count": 2,
   "metadata": {},
   "outputs": [
    {
     "data": {
      "text/plain": [
       "<pyscf.gto.mole.Mole at 0x7e7cfc8a2ff0>"
      ]
     },
     "execution_count": 2,
     "metadata": {},
     "output_type": "execute_result"
    }
   ],
   "source": [
    "mol = gto.Mole()\n",
    "mol.atom = \"\"\"\n",
    "H      1.090669    0.975611    0.000000\n",
    "H     -0.435544    1.078064    0.889793\n",
    "H     -0.435544    1.078064   -0.889793\n",
    "C      0.048224    0.665550    0.000000\n",
    "O      0.044194   -0.754448    0.000000\n",
    "H     -0.874480   -1.043721    0.000000\n",
    "\"\"\"\n",
    "mol.unit = \"Angstrom\"\n",
    "mol.basis = \"aug-cc-pvtz\"\n",
    "\n",
    "mol.build()"
   ]
  },
  {
   "cell_type": "code",
   "execution_count": 3,
   "metadata": {},
   "outputs": [
    {
     "name": "stdout",
     "output_type": "stream",
     "text": [
      "converged SCF energy = -115.091930165865\n",
      "E(MP2) = -115.562558696327  E_corr = -0.470628530461742\n",
      "E(SCS-MP2) = -115.565033949479  E_corr = -0.473103783614005\n"
     ]
    }
   ],
   "source": [
    "mf = scf.RHF(mol).run()\n",
    "mp2 = mp.MP2(mf).run()"
   ]
  },
  {
   "cell_type": "code",
   "execution_count": 4,
   "metadata": {},
   "outputs": [],
   "source": [
    "opt = mp2.Gradients().optimizer(solver=\"geometric\")"
   ]
  },
  {
   "cell_type": "code",
   "execution_count": 5,
   "metadata": {},
   "outputs": [
    {
     "name": "stderr",
     "output_type": "stream",
     "text": [
      "geometric-optimize called with the following command line:\n",
      "/home/alex/miniconda3/envs/pyscf-dev/lib/python3.12/site-packages/ipykernel_launcher.py --f=/home/alex/.local/share/jupyter/runtime/kernel-v2-13676ffzal7EV5az7.json\n",
      "\n",
      "                                        \u001b[91m())))))))))))))))/\u001b[0m                     \n",
      "                                    \u001b[91m())))))))))))))))))))))))),\u001b[0m                \n",
      "                                \u001b[91m*)))))))))))))))))))))))))))))))))\u001b[0m             \n",
      "                        \u001b[94m#,\u001b[0m    \u001b[91m()))))))))/\u001b[0m                \u001b[91m.)))))))))),\u001b[0m          \n",
      "                      \u001b[94m#%%%%,\u001b[0m  \u001b[91m())))))\u001b[0m                        \u001b[91m.))))))))*\u001b[0m        \n",
      "                      \u001b[94m*%%%%%%,\u001b[0m  \u001b[91m))\u001b[0m              \u001b[93m..\u001b[0m              \u001b[91m,))))))).\u001b[0m      \n",
      "                        \u001b[94m*%%%%%%,\u001b[0m         \u001b[93m***************/.\u001b[0m        \u001b[91m.)))))))\u001b[0m     \n",
      "                \u001b[94m#%%/\u001b[0m      \u001b[94m(%%%%%%,\u001b[0m    \u001b[93m/*********************.\u001b[0m       \u001b[91m)))))))\u001b[0m    \n",
      "              \u001b[94m.%%%%%%#\u001b[0m      \u001b[94m*%%%%%%,\u001b[0m  \u001b[93m*******/,\u001b[0m     \u001b[93m**********,\u001b[0m      \u001b[91m.))))))\u001b[0m   \n",
      "                \u001b[94m.%%%%%%/\u001b[0m      \u001b[94m*%%%%%%,\u001b[0m  \u001b[93m**\u001b[0m              \u001b[93m********\u001b[0m      \u001b[91m.))))))\u001b[0m  \n",
      "          \u001b[94m##\u001b[0m      \u001b[94m.%%%%%%/\u001b[0m      \u001b[94m(%%%%%%,\u001b[0m                  \u001b[93m,******\u001b[0m      \u001b[91m/)))))\u001b[0m  \n",
      "        \u001b[94m%%%%%%\u001b[0m      \u001b[94m.%%%%%%#\u001b[0m      \u001b[94m*%%%%%%,\u001b[0m    \u001b[92m,/////.\u001b[0m       \u001b[93m******\u001b[0m      \u001b[91m))))))\u001b[0m \n",
      "      \u001b[94m#%\u001b[0m      \u001b[94m%%\u001b[0m      \u001b[94m.%%%%%%/\u001b[0m      \u001b[94m*%%%%%%,\u001b[0m  \u001b[92m////////,\u001b[0m      \u001b[93m*****/\u001b[0m     \u001b[91m,)))))\u001b[0m \n",
      "    \u001b[94m#%%\u001b[0m  \u001b[94m%%%\u001b[0m  \u001b[94m%%%#\u001b[0m      \u001b[94m.%%%%%%/\u001b[0m      \u001b[94m(%%%%%%,\u001b[0m  \u001b[92m///////.\u001b[0m     \u001b[93m/*****\u001b[0m      \u001b[91m))))).\u001b[0m\n",
      "  \u001b[94m#%%%%.\u001b[0m      \u001b[94m%%%%%#\u001b[0m      \u001b[94m/%%%%%%*\u001b[0m      \u001b[94m#%%%%%%\u001b[0m   \u001b[92m/////)\u001b[0m     \u001b[93m******\u001b[0m      \u001b[91m))))),\u001b[0m\n",
      "    \u001b[94m#%%%%##%\u001b[0m  \u001b[94m%%%#\u001b[0m      \u001b[94m.%%%%%%/\u001b[0m      \u001b[94m(%%%%%%,\u001b[0m  \u001b[92m///////.\u001b[0m     \u001b[93m/*****\u001b[0m      \u001b[91m))))).\u001b[0m\n",
      "      \u001b[94m##\u001b[0m     \u001b[94m%%%\u001b[0m      \u001b[94m.%%%%%%/\u001b[0m      \u001b[94m*%%%%%%,\u001b[0m  \u001b[92m////////.\u001b[0m      \u001b[93m*****/\u001b[0m     \u001b[91m,)))))\u001b[0m \n",
      "        \u001b[94m#%%%%#\u001b[0m      \u001b[94m/%%%%%%/\u001b[0m      \u001b[94m(%%%%%%\u001b[0m      \u001b[92m/)/)//\u001b[0m       \u001b[93m******\u001b[0m      \u001b[91m))))))\u001b[0m \n",
      "          \u001b[94m##\u001b[0m      \u001b[94m.%%%%%%/\u001b[0m      \u001b[94m(%%%%%%,\u001b[0m                  \u001b[93m*******\u001b[0m      \u001b[91m))))))\u001b[0m  \n",
      "                \u001b[94m.%%%%%%/\u001b[0m      \u001b[94m*%%%%%%,\u001b[0m  \u001b[93m**.\u001b[0m             \u001b[93m/*******\u001b[0m      \u001b[91m.))))))\u001b[0m  \n",
      "              \u001b[94m*%%%%%%/\u001b[0m      \u001b[94m(%%%%%%\u001b[0m   \u001b[93m********/*..,*/*********\u001b[0m       \u001b[91m*))))))\u001b[0m   \n",
      "                \u001b[94m#%%/\u001b[0m      \u001b[94m(%%%%%%,\u001b[0m    \u001b[93m*********************/\u001b[0m        \u001b[91m)))))))\u001b[0m    \n",
      "                        \u001b[94m*%%%%%%,\u001b[0m         \u001b[93m,**************/\u001b[0m         \u001b[91m,))))))/\u001b[0m     \n",
      "                      \u001b[94m(%%%%%%\u001b[0m   \u001b[91m()\u001b[0m                              \u001b[91m))))))))\u001b[0m       \n",
      "                      \u001b[94m#%%%%,\u001b[0m  \u001b[91m())))))\u001b[0m                        \u001b[91m,)))))))),\u001b[0m        \n",
      "                        \u001b[94m#,\u001b[0m    \u001b[91m())))))))))\u001b[0m                \u001b[91m,)))))))))).\u001b[0m          \n",
      "                                 \u001b[91m()))))))))))))))))))))))))))))))/\u001b[0m             \n",
      "                                    \u001b[91m())))))))))))))))))))))))).\u001b[0m                \n",
      "                                         \u001b[91m())))))))))))))),\u001b[0m                     \n",
      "\n",
      "-=# \u001b[1;94m geomeTRIC started. Version: 1.0 \u001b[0m #=-\n",
      "Current date and time: 2024-03-23 20:24:58\n",
      "Custom engine selected.\n",
      "Bonds will be generated from interatomic distances less than 1.20 times sum of covalent radii\n",
      "18 internal coordinates being used (instead of 18 Cartesians)\n",
      "Internal coordinate system (atoms numbered from 1):\n",
      "Distance 1-4\n",
      "Distance 2-4\n",
      "Distance 3-4\n",
      "Distance 4-5\n",
      "Distance 5-6\n",
      "Angle 1-4-2\n",
      "Angle 1-4-3\n",
      "Angle 1-4-5\n",
      "Angle 2-4-3\n",
      "Angle 2-4-5\n",
      "Angle 3-4-5\n",
      "Angle 4-5-6\n",
      "Dihedral 1-4-5-6\n",
      "Dihedral 2-4-5-6\n",
      "Dihedral 3-4-5-6\n",
      "Translation-X 1-6\n",
      "Translation-Y 1-6\n",
      "Translation-Z 1-6\n",
      "Rotation-A 1-6\n",
      "Rotation-B 1-6\n",
      "Rotation-C 1-6\n",
      "<class 'geometric.internal.Distance'> : 5\n",
      "<class 'geometric.internal.Angle'> : 7\n",
      "<class 'geometric.internal.Dihedral'> : 3\n",
      "<class 'geometric.internal.TranslationX'> : 1\n",
      "<class 'geometric.internal.TranslationY'> : 1\n",
      "<class 'geometric.internal.TranslationZ'> : 1\n",
      "<class 'geometric.internal.RotationA'> : 1\n",
      "<class 'geometric.internal.RotationB'> : 1\n",
      "<class 'geometric.internal.RotationC'> : 1\n",
      "> ===== Optimization Info: ====\n",
      "> Job type: Energy minimization\n",
      "> Maximum number of optimization cycles: 300\n",
      "> Initial / maximum trust radius (Angstrom): 0.100 / 0.300\n",
      "> Convergence Criteria:\n",
      "> Will converge when all 5 criteria are reached:\n",
      ">  |Delta-E| < 1.00e-06\n",
      ">  RMS-Grad  < 3.00e-04\n",
      ">  Max-Grad  < 4.50e-04\n",
      ">  RMS-Disp  < 1.20e-03\n",
      ">  Max-Disp  < 1.80e-03\n",
      "> === End Optimization Info ===\n"
     ]
    },
    {
     "name": "stdout",
     "output_type": "stream",
     "text": [
      "\n",
      "Geometry optimization cycle 1\n",
      "Cartesian coordinates (Angstrom)\n",
      " Atom        New coordinates             dX        dY        dZ\n",
      "   H   1.090669   0.975611   0.000000    0.000000  0.000000  0.000000\n",
      "   H  -0.435544   1.078064   0.889793    0.000000  0.000000 -0.000000\n",
      "   H  -0.435544   1.078064  -0.889793    0.000000  0.000000  0.000000\n",
      "   C   0.048224   0.665550   0.000000    0.000000  0.000000  0.000000\n",
      "   O   0.044194  -0.754448   0.000000    0.000000  0.000000  0.000000\n",
      "   H  -0.874480  -1.043721   0.000000    0.000000  0.000000  0.000000\n",
      "converged SCF energy = -115.091930165869\n",
      "E(MP2_Scanner) = -115.562558673388  E_corr = -0.470628507519652\n",
      "E(SCS-MP2_Scanner) = -115.565033921928  E_corr = -0.473103756059917\n",
      "--------------- MP2_Scanner gradients ---------------\n",
      "         x                y                z\n",
      "0 H     0.0024986849     0.0009336244     0.0000000000\n",
      "1 H    -0.0013871783     0.0015878556     0.0023048495\n",
      "2 H    -0.0013871783     0.0015878556    -0.0023048495\n",
      "3 C    -0.0003300533    -0.0028528836     0.0000000000\n",
      "4 O     0.0048722315    -0.0006443311     0.0000000000\n",
      "5 H    -0.0042665064    -0.0006121209    -0.0000000000\n",
      "----------------------------------------------\n",
      "cycle 1: E = -115.562558673  dE = -115.563  norm(grad) = 0.00880967\n"
     ]
    },
    {
     "name": "stderr",
     "output_type": "stream",
     "text": [
      "Step    0 : Gradient = 3.597e-03/4.915e-03 (rms/max) Energy = -115.5625586734\n",
      "Hessian Eigenvalues: 2.30000e-02 5.00000e-02 5.00000e-02 ... 3.50939e-01 4.24598e-01 5.48032e-01\n"
     ]
    },
    {
     "name": "stdout",
     "output_type": "stream",
     "text": [
      "\n",
      "Geometry optimization cycle 2\n",
      "Cartesian coordinates (Angstrom)\n",
      " Atom        New coordinates             dX        dY        dZ\n",
      "   H   1.087297   0.973938  -0.000000   -0.003372 -0.001673 -0.000000\n",
      "   H  -0.433486   1.076246   0.887076    0.002058 -0.001818 -0.002717\n",
      "   H  -0.433486   1.076246  -0.887076    0.002058 -0.001818  0.002717\n",
      "   C   0.047908   0.667689  -0.000000   -0.000316  0.002139 -0.000000\n",
      "   O   0.041148  -0.750735   0.000000   -0.003046  0.003713  0.000000\n",
      "   H  -0.871862  -1.044264   0.000000    0.002618 -0.000543  0.000000\n",
      "converged SCF energy = -115.092321034632\n",
      "E(MP2_Scanner) = -115.562625241867  E_corr = -0.470304207235537\n",
      "E(SCS-MP2_Scanner) = -115.565086826474  E_corr = -0.472765791841786\n",
      "--------------- MP2_Scanner gradients ---------------\n",
      "         x                y                z\n",
      "0 H    -0.0000516236     0.0000737016    -0.0000000000\n",
      "1 H    -0.0000495413     0.0000280672    -0.0000081419\n",
      "2 H    -0.0000495413     0.0000280672     0.0000081419\n",
      "3 C     0.0001616810    -0.0002106844     0.0000000000\n",
      "4 O     0.0003259388     0.0000910309    -0.0000000000\n",
      "5 H    -0.0003369136    -0.0000101825    -0.0000000000\n",
      "----------------------------------------------\n",
      "cycle 2: E = -115.562625242  dE = -6.65685e-05  norm(grad) = 0.000559803\n"
     ]
    },
    {
     "name": "stderr",
     "output_type": "stream",
     "text": [
      "Step    1 : Displace = \u001b[0m3.626e-03\u001b[0m/\u001b[0m4.802e-03\u001b[0m (rms/max) Trust = 1.000e-01 (=) Grad = \u001b[92m2.285e-04\u001b[0m/\u001b[92m3.384e-04\u001b[0m (rms/max) E (change) = -115.5626252419 (\u001b[0m-6.657e-05\u001b[0m) Quality = \u001b[0m1.036\u001b[0m\n",
      "Hessian Eigenvalues: 2.30000e-02 5.00000e-02 5.00000e-02 ... 3.55142e-01 4.27044e-01 5.32107e-01\n"
     ]
    },
    {
     "name": "stdout",
     "output_type": "stream",
     "text": [
      "\n",
      "Geometry optimization cycle 3\n",
      "Cartesian coordinates (Angstrom)\n",
      " Atom        New coordinates             dX        dY        dZ\n",
      "   H   1.087233   0.973274  -0.000000   -0.000063 -0.000665  0.000000\n",
      "   H  -0.433370   1.076657   0.887251    0.000116  0.000411  0.000174\n",
      "   H  -0.433370   1.076657  -0.887251    0.000116  0.000411 -0.000174\n",
      "   C   0.047517   0.668044  -0.000000   -0.000392  0.000356 -0.000000\n",
      "   O   0.040914  -0.750477   0.000000   -0.000234  0.000258 -0.000000\n",
      "   H  -0.871405  -1.045035   0.000000    0.000456 -0.000770  0.000000\n",
      "converged SCF energy = -115.092336067348\n",
      "E(MP2_Scanner) = -115.562625603029  E_corr = -0.470289535680031\n",
      "E(SCS-MP2_Scanner) = -115.565087772596  E_corr = -0.472751705246966\n",
      "--------------- MP2_Scanner gradients ---------------\n",
      "         x                y                z\n",
      "0 H    -0.0000173644    -0.0000105297    -0.0000000000\n",
      "1 H     0.0000007563     0.0000161436    -0.0000031352\n",
      "2 H     0.0000007563     0.0000161436     0.0000031352\n",
      "3 C     0.0000012646    -0.0000280232    -0.0000000000\n",
      "4 O    -0.0000003532     0.0000026394     0.0000000000\n",
      "5 H     0.0000149405     0.0000036263     0.0000000000\n",
      "----------------------------------------------\n",
      "cycle 3: E = -115.562625603  dE = -3.61161e-07  norm(grad) = 4.4551e-05\n"
     ]
    },
    {
     "name": "stderr",
     "output_type": "stream",
     "text": [
      "Step    2 : Displace = \u001b[92m5.879e-04\u001b[0m/\u001b[92m8.964e-04\u001b[0m (rms/max) Trust = 1.414e-01 (\u001b[92m+\u001b[0m) Grad = \u001b[92m1.819e-05\u001b[0m/\u001b[92m2.805e-05\u001b[0m (rms/max) E (change) = -115.5626256030 (\u001b[92m-3.612e-07\u001b[0m) Quality = \u001b[0m1.023\u001b[0m\n",
      "Hessian Eigenvalues: 2.30000e-02 5.00000e-02 5.00000e-02 ... 3.55142e-01 4.27044e-01 5.32107e-01\n",
      "Converged! =D\n",
      "\n",
      "    #==========================================================================#\n",
      "    #| If this code has benefited your research, please support us by citing: |#\n",
      "    #|                                                                        |#\n",
      "    #| Wang, L.-P.; Song, C.C. (2016) \"Geometry optimization made simple with |#\n",
      "    #| translation and rotation coordinates\", J. Chem, Phys. 144, 214108.     |#\n",
      "    #| http://dx.doi.org/10.1063/1.4952956                                    |#\n",
      "    #==========================================================================#\n",
      "    Time elapsed since start of run_optimizer: 102.734 seconds\n"
     ]
    }
   ],
   "source": [
    "mol_eq = opt.kernel()"
   ]
  },
  {
   "cell_type": "code",
   "execution_count": 11,
   "metadata": {},
   "outputs": [
    {
     "name": "stdout",
     "output_type": "stream",
     "text": [
      "6\n",
      "\n",
      "H 1.087233414164 0.973273765800 -0.000000000003\n",
      "H -0.433369969319 1.076656992206 0.887250705274\n",
      "H -0.433369969320 1.076656992204 -0.887250705276\n",
      "C 0.047516539242 0.668044470971 -0.000000000002\n",
      "O 0.040914462169 -0.750477438337 0.000000000001\n",
      "H -0.871405476930 -1.045034782848 0.000000000003\n",
      "\n"
     ]
    }
   ],
   "source": [
    "xyz = mol_eq.atom_coords(unit=\"Angstrom\")\n",
    "atom_symbols = [mol_eq.atom_pure_symbol(i) for i in range(mol_eq.natm)]\n",
    "xyz_str = f\"{len(atom_symbols)}\\n\\n\" + \"\".join(\n",
    "    [\n",
    "        f\"{atom_symbols[i]} {xyz[i][0]:.12f} {xyz[i][1]:.12f} {xyz[i][2]:.12f}\\n\"\n",
    "        for i in range(len(atom_symbols))\n",
    "    ]\n",
    ")\n",
    "print(xyz_str)"
   ]
  },
  {
   "cell_type": "code",
   "execution_count": 12,
   "metadata": {},
   "outputs": [
    {
     "data": {
      "application/3dmoljs_load.v0": "<div id=\"3dmolviewer_17112400713504012\"  style=\"position: relative; width: 400px; height: 400px;\">\n        <p id=\"3dmolwarning_17112400713504012\" style=\"background-color:#ffcccc;color:black\">3Dmol.js failed to load for some reason.  Please check your browser console for error messages.<br></p>\n        </div>\n<script>\n\nvar loadScriptAsync = function(uri){\n  return new Promise((resolve, reject) => {\n    //this is to ignore the existence of requirejs amd\n    var savedexports, savedmodule;\n    if (typeof exports !== 'undefined') savedexports = exports;\n    else exports = {}\n    if (typeof module !== 'undefined') savedmodule = module;\n    else module = {}\n\n    var tag = document.createElement('script');\n    tag.src = uri;\n    tag.async = true;\n    tag.onload = () => {\n        exports = savedexports;\n        module = savedmodule;\n        resolve();\n    };\n  var firstScriptTag = document.getElementsByTagName('script')[0];\n  firstScriptTag.parentNode.insertBefore(tag, firstScriptTag);\n});\n};\n\nif(typeof $3Dmolpromise === 'undefined') {\n$3Dmolpromise = null;\n  $3Dmolpromise = loadScriptAsync('https://cdnjs.cloudflare.com/ajax/libs/3Dmol/2.1.0/3Dmol-min.js');\n}\n\nvar viewer_17112400713504012 = null;\nvar warn = document.getElementById(\"3dmolwarning_17112400713504012\");\nif(warn) {\n    warn.parentNode.removeChild(warn);\n}\n$3Dmolpromise.then(function() {\nviewer_17112400713504012 = $3Dmol.createViewer(document.getElementById(\"3dmolviewer_17112400713504012\"),{backgroundColor:\"white\"});\nviewer_17112400713504012.zoomTo();\n\tviewer_17112400713504012.addModel(\"6\\n\\nH 1.087233414164 0.973273765800 -0.000000000003\\nH -0.433369969319 1.076656992206 0.887250705274\\nH -0.433369969320 1.076656992204 -0.887250705276\\nC 0.047516539242 0.668044470971 -0.000000000002\\nO 0.040914462169 -0.750477438337 0.000000000001\\nH -0.871405476930 -1.045034782848 0.000000000003\\n\",\"xyz\");\n\tviewer_17112400713504012.setStyle({\"stick\": {}});\n\tviewer_17112400713504012.zoomTo();\nviewer_17112400713504012.render();\n});\n</script>",
      "text/html": [
       "<div id=\"3dmolviewer_17112400713504012\"  style=\"position: relative; width: 400px; height: 400px;\">\n",
       "        <p id=\"3dmolwarning_17112400713504012\" style=\"background-color:#ffcccc;color:black\">3Dmol.js failed to load for some reason.  Please check your browser console for error messages.<br></p>\n",
       "        </div>\n",
       "<script>\n",
       "\n",
       "var loadScriptAsync = function(uri){\n",
       "  return new Promise((resolve, reject) => {\n",
       "    //this is to ignore the existence of requirejs amd\n",
       "    var savedexports, savedmodule;\n",
       "    if (typeof exports !== 'undefined') savedexports = exports;\n",
       "    else exports = {}\n",
       "    if (typeof module !== 'undefined') savedmodule = module;\n",
       "    else module = {}\n",
       "\n",
       "    var tag = document.createElement('script');\n",
       "    tag.src = uri;\n",
       "    tag.async = true;\n",
       "    tag.onload = () => {\n",
       "        exports = savedexports;\n",
       "        module = savedmodule;\n",
       "        resolve();\n",
       "    };\n",
       "  var firstScriptTag = document.getElementsByTagName('script')[0];\n",
       "  firstScriptTag.parentNode.insertBefore(tag, firstScriptTag);\n",
       "});\n",
       "};\n",
       "\n",
       "if(typeof $3Dmolpromise === 'undefined') {\n",
       "$3Dmolpromise = null;\n",
       "  $3Dmolpromise = loadScriptAsync('https://cdnjs.cloudflare.com/ajax/libs/3Dmol/2.1.0/3Dmol-min.js');\n",
       "}\n",
       "\n",
       "var viewer_17112400713504012 = null;\n",
       "var warn = document.getElementById(\"3dmolwarning_17112400713504012\");\n",
       "if(warn) {\n",
       "    warn.parentNode.removeChild(warn);\n",
       "}\n",
       "$3Dmolpromise.then(function() {\n",
       "viewer_17112400713504012 = $3Dmol.createViewer(document.getElementById(\"3dmolviewer_17112400713504012\"),{backgroundColor:\"white\"});\n",
       "viewer_17112400713504012.zoomTo();\n",
       "\tviewer_17112400713504012.addModel(\"6\\n\\nH 1.087233414164 0.973273765800 -0.000000000003\\nH -0.433369969319 1.076656992206 0.887250705274\\nH -0.433369969320 1.076656992204 -0.887250705276\\nC 0.047516539242 0.668044470971 -0.000000000002\\nO 0.040914462169 -0.750477438337 0.000000000001\\nH -0.871405476930 -1.045034782848 0.000000000003\\n\",\"xyz\");\n",
       "\tviewer_17112400713504012.setStyle({\"stick\": {}});\n",
       "\tviewer_17112400713504012.zoomTo();\n",
       "viewer_17112400713504012.render();\n",
       "});\n",
       "</script>"
      ]
     },
     "metadata": {},
     "output_type": "display_data"
    }
   ],
   "source": [
    "view = py3Dmol.view(width=400, height=400)\n",
    "view.addModel(xyz_str, \"xyz\")\n",
    "view.setStyle({\"stick\": {}})\n",
    "view.zoomTo()\n",
    "view.show()"
   ]
  },
  {
   "cell_type": "markdown",
   "metadata": {},
   "source": [
    "The final structure in Z-matrix would be\n",
    "\n",
    "```text\n",
    "H\n",
    "H  1  1.7636\n",
    "H  1  1.7636  2  60.41\n",
    "C  1  1.0836  2  35.82  3  323.75\n",
    "O  4  1.4185  1  106.63  2  239.27\n",
    "H  5  0.9587  4  108.16  1  180.00\n",
    "```\n"
   ]
  }
 ],
 "metadata": {
  "kernelspec": {
   "display_name": "biosc1540-2024s-dev",
   "language": "python",
   "name": "python3"
  },
  "language_info": {
   "codemirror_mode": {
    "name": "ipython",
    "version": 3
   },
   "file_extension": ".py",
   "mimetype": "text/x-python",
   "name": "python",
   "nbconvert_exporter": "python",
   "pygments_lexer": "ipython3",
   "version": "3.12.2"
  }
 },
 "nbformat": 4,
 "nbformat_minor": 2
}
